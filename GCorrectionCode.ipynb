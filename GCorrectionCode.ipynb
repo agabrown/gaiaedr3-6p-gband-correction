{
 "cells": [
  {
   "cell_type": "markdown",
   "metadata": {},
   "source": [
    "# G-band magnitude/flux corrections for 2-p/6-p Gaia EDR3 sources\n",
    "\n",
    "This notebook contains example Python to correct the Gaia EDR3 G-band fluxes or magnitudes for sources with 2-parameter or 6-parameter astrometric solutions.\n",
    "\n",
    "The input data was retrieved from the Gaia EDR3 archive with the following query:\n",
    "```\n",
    "select source_id, astrometric_params_solved, bp_rp, phot_g_mean_mag, phot_g_mean_flux\n",
    "from user_edr3int4.gaia_source\n",
    "where random_index between 5000000 and 5999999\n",
    "```"
   ]
  },
  {
   "cell_type": "code",
   "execution_count": 1,
   "metadata": {},
   "outputs": [],
   "source": [
    "import numpy as np\n",
    "import matplotlib.pyplot as plt\n",
    "\n",
    "from astropy.table import Table"
   ]
  },
  {
   "cell_type": "markdown",
   "metadata": {},
   "source": [
    "## Define the function that calculates the magnitude and flux corrections\n",
    "\n",
    "The code will only work on floats or numpy arrays as input. Lists or tuples should be cast to numpy arrays before using this function."
   ]
  },
  {
   "cell_type": "code",
   "execution_count": 2,
   "metadata": {},
   "outputs": [],
   "source": [
    "def correct_gband(bp_rp, astrometric_params_solved, phot_g_mean_mag, phot_g_mean_flux):\n",
    "    \"\"\"\n",
    "    Correct the G-band fluxes and magnitudes for the input list of Gaia EDR3 data.\n",
    "    \n",
    "    Parameters\n",
    "    ----------\n",
    "    \n",
    "    bp_rp: float, numpy.ndarray\n",
    "        The (BP-RP) colour listed in the Gaia EDR3 archive.\n",
    "    astrometric_params_solved: int, numpy.ndarray\n",
    "        The astrometric solution type listed in the Gaia EDR3 archive.\n",
    "    phot_g_mean_mag: float, numpy.ndarray\n",
    "        The G-band magnitude as listed in the Gaia EDR3 archive.\n",
    "    phot_g_mean_flux: float, numpy.ndarray\n",
    "        The G-band flux as listed in the Gaia EDR3 archive.\n",
    "        \n",
    "    Returns\n",
    "    -------\n",
    "    \n",
    "    The corrected G-band magnitudes and fluxes. The corrections are only applied to\n",
    "    sources with a 2-paramater or 6-parameter astrometric solution fainter than G=13, \n",
    "    for which a (BP-RP) colour is available.\n",
    "    \n",
    "    Example\n",
    "    -------\n",
    "    \n",
    "    gmag_corr, gflux_corr = correct_gband(bp_rp, astrometric_params_solved, phot_g_mean_mag, phot_g_mean_flux)\n",
    "    \"\"\"\n",
    "\n",
    "    if np.isscalar(bp_rp) or np.isscalar(astrometric_params_solved) or np.isscalar(phot_g_mean_mag) \\\n",
    "                    or np.isscalar(phot_g_mean_flux):\n",
    "        bp_rp = np.float64(bp_rp)\n",
    "        astrometric_params_solved = np.int64(astrometric_params_solved)\n",
    "        phot_g_mean_mag = np.float64(phot_g_mean_mag)\n",
    "        phot_g_mean_flux = np.float64(phot_g_mean_flux)\n",
    "    \n",
    "    if not (bp_rp.shape == astrometric_params_solved.shape == phot_g_mean_mag.shape == phot_g_mean_flux.shape):\n",
    "        raise ValueError('Function parameters must be of the same shape!')\n",
    "    \n",
    "    do_not_correct = np.isnan(bp_rp) | (phot_g_mean_mag<=13) | (astrometric_params_solved == 31)\n",
    "    bright_correct = np.logical_not(do_not_correct) & (phot_g_mean_mag>13) & (phot_g_mean_mag<=16)\n",
    "    faint_correct = np.logical_not(do_not_correct) & (phot_g_mean_mag>16)\n",
    "    bp_rp_c = np.clip(bp_rp, 0.25, 3.0)\n",
    "    \n",
    "    correction_factor = np.ones_like(phot_g_mean_mag)\n",
    "    correction_factor[faint_correct] = 1.00525 - 0.02323*bp_rp_c[faint_correct] + \\\n",
    "        0.01740*np.power(bp_rp_c[faint_correct],2) - 0.00253*np.power(bp_rp_c[faint_correct],3)\n",
    "    correction_factor[bright_correct] = 1.00876 - 0.02540*bp_rp_c[bright_correct] + \\\n",
    "        0.01747*np.power(bp_rp_c[bright_correct],2) - 0.00277*np.power(bp_rp_c[bright_correct],3)\n",
    "    \n",
    "    gmag_corrected = phot_g_mean_mag - 2.5*np.log10(correction_factor)\n",
    "    gflux_corrected = phot_g_mean_flux * correction_factor\n",
    "    \n",
    "    return gmag_corrected, gflux_corrected"
   ]
  },
  {
   "cell_type": "markdown",
   "metadata": {},
   "source": [
    "## Verify that the code works on the example data from the archive\n",
    "\n",
    "The plot below is only a visual confirmation that the corrections are applied as expected for the different $G$ and colour ranges."
   ]
  },
  {
   "cell_type": "code",
   "execution_count": 3,
   "metadata": {},
   "outputs": [
    {
     "name": "stdout",
     "output_type": "stream",
     "text": [
      "Number of sources with G=null: 2939\n",
      "Number of sources with G_corr=null: 2939\n",
      "Number of sources with Gflux_corr=null: 2939\n",
      "\n",
      "Range in delta_G where no correction is expected (should be all zeros):     0.0--0.0\n",
      "Range in flux ratio where no correction is expected (should be all ones):     1.0--1.0\n"
     ]
    }
   ],
   "source": [
    "edr3data = Table.read('GCorrection_inputs.fits', format='fits')\n",
    "\n",
    "gmag_corrected, gflux_corrected = correct_gband(edr3data['bp_rp'], edr3data['astrometric_params_solved'],\n",
    "                                                edr3data['phot_g_mean_mag'], edr3data['phot_g_mean_flux'])\n",
    "\n",
    "print(f\"Number of sources with G=null: {edr3data['phot_g_mean_mag'][np.isnan(edr3data['phot_g_mean_mag'])].size}\")\n",
    "print(f\"Number of sources with G_corr=null: {gmag_corrected[np.isnan(gmag_corrected)].size}\")\n",
    "print(f\"Number of sources with Gflux_corr=null: {gflux_corrected[np.isnan(gflux_corrected)].size}\")\n",
    "print()\n",
    "\n",
    "not_corrected = np.isnan(edr3data['bp_rp']) | (edr3data['phot_g_mean_mag']<=13) | \\\n",
    "    (edr3data['astrometric_params_solved'] == 31)\n",
    "faint_corrected = np.logical_not(not_corrected) & (edr3data['phot_g_mean_mag']>16)\n",
    "bright_corrected = np.logical_not(not_corrected) & (edr3data['phot_g_mean_mag']>13) & \\\n",
    "    (edr3data['phot_g_mean_mag']<=16)\n",
    "\n",
    "deltag = gmag_corrected - edr3data['phot_g_mean_mag']\n",
    "fratio = gflux_corrected / edr3data['phot_g_mean_flux']\n",
    "\n",
    "print(f\"Range in delta_G where no correction is expected (should be all zeros): \\\n",
    "    {np.nanmin(deltag[not_corrected])}--{np.nanmax(deltag[not_corrected])}\")\n",
    "print(f\"Range in flux ratio where no correction is expected (should be all ones): \\\n",
    "    {np.nanmin(fratio[not_corrected])}--{np.nanmax(fratio[not_corrected])}\")"
   ]
  },
  {
   "cell_type": "code",
   "execution_count": 4,
   "metadata": {},
   "outputs": [
    {
     "data": {
      "image/png": "[encoded data removed]",
      "text/plain": [
       "<Figure size 864x504 with 1 Axes>"
      ]
     },
     "metadata": {
      "needs_background": "light"
     },
     "output_type": "display_data"
    }
   ],
   "source": [
    "fig, ax = plt.subplots(1, 1, figsize=(12,7))\n",
    "\n",
    "ax.plot(edr3data['bp_rp'][not_corrected], deltag[not_corrected], '.', label='No correction expected')\n",
    "ax.plot(edr3data['bp_rp'][bright_corrected], deltag[bright_corrected], '.', label='$13<G\\leq16$')\n",
    "ax.plot(edr3data['bp_rp'][faint_corrected], deltag[faint_corrected], '.', label='$G>16$')\n",
    "ax.set_xlabel('$(G_\\mathrm{BP}-G_\\mathrm{RP}$)')\n",
    "ax.set_ylabel('$\\Delta G$')\n",
    "ax.legend(loc='lower left')\n",
    "\n",
    "plt.show()"
   ]
  },
  {
   "cell_type": "markdown",
   "metadata": {},
   "source": [
    "## Verify that the code works for scalar inputs"
   ]
  },
  {
   "cell_type": "code",
   "execution_count": 5,
   "metadata": {},
   "outputs": [
    {
     "name": "stdout",
     "output_type": "stream",
     "text": [
      "Vector G   Scalar G    Vector flux     Scalar flux    \n",
      " 20.868980  20.868980        84.596884        84.596884\n",
      " 14.767835  14.767835     23324.525045     23324.525045\n",
      " 20.518380  20.518379       116.840968       116.840953\n",
      " 18.615956  18.615955       673.852157       673.852200\n",
      " 20.014158  20.014158       185.901732       185.901732\n",
      " 19.399213  19.399214       327.537900       327.537907\n",
      " 20.356253  20.356253       135.658016       135.658012\n",
      " 20.114435  20.114435       169.501100       169.501100\n",
      " 20.091312  20.091312       173.149574       173.149574\n",
      " 20.640224  20.640224       104.437621       104.437621\n"
     ]
    }
   ],
   "source": [
    "comparison_values_mags, comparison_values_flux = gmag_corrected[0:10], gflux_corrected[0:10]\n",
    "\n",
    "print(f\"{'Vector G':10s} {'Scalar G':10s}  {'Vector flux':15s} {'Scalar flux':15s}\")\n",
    "for i in range(0,10):\n",
    "    corrg, corrf = correct_gband(np.float(edr3data['bp_rp'][i]), \n",
    "                                 np.int(edr3data['astrometric_params_solved'][i]),\n",
    "                                 np.float(edr3data['phot_g_mean_mag'][i]), \n",
    "                                 np.float(edr3data['phot_g_mean_flux'][i]))\n",
    "    print(f'{corrg:10.6f} {comparison_values_mags[i]:10.6f}  {corrf:15.6f}  {comparison_values_flux[i]:15.6f}')"
   ]
  },
  {
   "cell_type": "markdown",
   "metadata": {},
   "source": [
    "## Verify that the code throws the expected exception when input shapes do not match."
   ]
  },
  {
   "cell_type": "code",
   "execution_count": 6,
   "metadata": {
    "scrolled": true
   },
   "outputs": [
    {
     "name": "stdout",
     "output_type": "stream",
     "text": [
      "Expect to land here\n",
      "Expect to land here\n",
      "Expect to land here\n",
      "Expect to land here\n"
     ]
    }
   ],
   "source": [
    "try:\n",
    "    correct_gband(np.float(edr3data['bp_rp'][1]), \n",
    "                  edr3data['astrometric_params_solved'][1:3],\n",
    "                  np.float(edr3data['phot_g_mean_mag'][1]), \n",
    "                  np.float(edr3data['phot_g_mean_flux'][1]))\n",
    "    print('Previous line should have failed!')\n",
    "except ValueError:\n",
    "    print('Expect to land here')\n",
    "    \n",
    "try:\n",
    "    correct_gband(edr3data['bp_rp'][1:3], \n",
    "                  np.int(edr3data['astrometric_params_solved'][1]),\n",
    "                  np.float(edr3data['phot_g_mean_mag'][1]), \n",
    "                  np.float(edr3data['phot_g_mean_flux'][1]))\n",
    "    print('Previous line should have failed!')\n",
    "except ValueError:\n",
    "    print('Expect to land here')\n",
    "    \n",
    "try:\n",
    "    correct_gband(np.float(edr3data['bp_rp'][1]), \n",
    "                  np.int(edr3data['astrometric_params_solved'][1]),\n",
    "                  edr3data['phot_g_mean_mag'][1:3], \n",
    "                  np.float(edr3data['phot_g_mean_flux'][1]))\n",
    "    print('Previous line should have failed!')\n",
    "except ValueError:\n",
    "    print('Expect to land here')\n",
    "    \n",
    "try:\n",
    "    correct_gband(np.float(edr3data['bp_rp'][1]), \n",
    "                  np.int(edr3data['astrometric_params_solved'][1]),\n",
    "                  np.float(edr3data['phot_g_mean_mag'][1]), \n",
    "                  edr3data['phot_g_mean_flux'][1:3])\n",
    "    print('Previous line should have failed!')\n",
    "except ValueError:\n",
    "    print('Expect to land here')"
   ]
  }
 ],
 "metadata": {
  "kernelspec": {
   "display_name": "Python 3",
   "language": "python",
   "name": "python3"
  },
  "language_info": {
   "codemirror_mode": {
    "name": "ipython",
    "version": 3
   },
   "file_extension": ".py",
   "mimetype": "text/x-python",
   "name": "python",
   "nbconvert_exporter": "python",
   "pygments_lexer": "ipython3",
   "version": "3.8.8"
  }
 },
 "nbformat": 4,
 "nbformat_minor": 4
}
